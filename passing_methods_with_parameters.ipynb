{
 "cells": [
  {
   "cell_type": "markdown",
   "id": "87e3bb4e",
   "metadata": {},
   "source": [
    "# Assume we have a function that has a parameter"
   ]
  },
  {
   "cell_type": "code",
   "execution_count": 1,
   "id": "3127a2a5",
   "metadata": {},
   "outputs": [],
   "source": [
    "def count_objects_below_threshold(threshold:float = 0.5) -> int:\n",
    "    return threshold * 10; # it's a silly algorithm"
   ]
  },
  {
   "cell_type": "markdown",
   "id": "13f80775",
   "metadata": {},
   "source": [
    "# Now, we want to pass this function to another function. Let's define this other function first"
   ]
  },
  {
   "cell_type": "code",
   "execution_count": 2,
   "id": "36348f85",
   "metadata": {},
   "outputs": [],
   "source": [
    "from typing import Callable \n",
    "\n",
    "def do_complex_analysis_including_counting(counting_method : Callable):\n",
    "    count = counting_method()\n",
    "    area = 10 # another silly algorithm\n",
    "    return count / area"
   ]
  },
  {
   "cell_type": "code",
   "execution_count": 3,
   "id": "d87c8589",
   "metadata": {},
   "outputs": [
    {
     "data": {
      "text/plain": [
       "0.5"
      ]
     },
     "execution_count": 3,
     "metadata": {},
     "output_type": "execute_result"
    }
   ],
   "source": [
    "# let's test it\n",
    "do_complex_analysis_including_counting(counting_method=count_objects_below_threshold)"
   ]
  },
  {
   "cell_type": "markdown",
   "id": "1639bba2",
   "metadata": {},
   "source": [
    "# We cannot pass the threshold obviously. \n",
    "Therefore, we need to define a helper function"
   ]
  },
  {
   "cell_type": "code",
   "execution_count": 4,
   "id": "1ac8a250",
   "metadata": {},
   "outputs": [],
   "source": [
    "my_custom_threshold = 0.8\n",
    "def helper_count_below():\n",
    "    return count_objects_below_threshold(my_custom_threshold)"
   ]
  },
  {
   "cell_type": "code",
   "execution_count": 5,
   "id": "18a974f8",
   "metadata": {},
   "outputs": [],
   "source": [
    "# Let's test it"
   ]
  },
  {
   "cell_type": "code",
   "execution_count": 6,
   "id": "303de030",
   "metadata": {},
   "outputs": [
    {
     "data": {
      "text/plain": [
       "0.8"
      ]
     },
     "execution_count": 6,
     "metadata": {},
     "output_type": "execute_result"
    }
   ],
   "source": [
    "do_complex_analysis_including_counting(helper_count_below)"
   ]
  },
  {
   "cell_type": "code",
   "execution_count": null,
   "id": "3fc88caf",
   "metadata": {},
   "outputs": [],
   "source": []
  }
 ],
 "metadata": {
  "kernelspec": {
   "display_name": "Python 3 (ipykernel)",
   "language": "python",
   "name": "python3"
  },
  "language_info": {
   "codemirror_mode": {
    "name": "ipython",
    "version": 3
   },
   "file_extension": ".py",
   "mimetype": "text/x-python",
   "name": "python",
   "nbconvert_exporter": "python",
   "pygments_lexer": "ipython3",
   "version": "3.8.12"
  }
 },
 "nbformat": 4,
 "nbformat_minor": 5
}
